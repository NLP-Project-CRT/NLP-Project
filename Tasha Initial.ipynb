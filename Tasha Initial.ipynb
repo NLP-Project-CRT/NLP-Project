{
 "cells": [
  {
   "cell_type": "code",
   "execution_count": 10,
   "metadata": {},
   "outputs": [
    {
     "name": "stderr",
     "output_type": "stream",
     "text": [
      "[nltk_data] Downloading package stopwords to\n",
      "[nltk_data]     /Users/natasharivers/nltk_data...\n",
      "[nltk_data]   Package stopwords is already up-to-date!\n",
      "[nltk_data] Downloading package wordnet to\n",
      "[nltk_data]     /Users/natasharivers/nltk_data...\n",
      "[nltk_data]   Package wordnet is already up-to-date!\n"
     ]
    }
   ],
   "source": [
    "import acquire as a\n",
    "import pandas as pd\n",
    "import prepare"
   ]
  },
  {
   "cell_type": "code",
   "execution_count": 2,
   "metadata": {},
   "outputs": [],
   "source": [
    "#process only one repo\n",
    "test= a.process_repo('dsfsi/covid19za')"
   ]
  },
  {
   "cell_type": "code",
   "execution_count": 3,
   "metadata": {},
   "outputs": [
    {
     "data": {
      "text/plain": [
       "{'repo': 'dsfsi/covid19za',\n",
       " 'language': 'Jupyter Notebook',\n",
       " 'readme_contents': \"# Coronavirus COVID-19 (2019-nCoV) Data Repository for South Africa\\n\\n[![DOI](https://zenodo.org/badge/DOI/10.5281/zenodo.3819126.svg)](https://doi.org/10.5281/zenodo.3819126) [![dsJournal](https://img.shields.io/badge/DSJournal-10.5334-B31B1B.svg)](https://doi.org/10.5334/dsj-2020-019)\\n\\nCoronavirus COVID-19 (2019-nCoV) Data Repository for South Africa created, maintained and hosted by [Data Science for Social Impact research group](https://dsfsi.github.io/), led by Dr. Vukosi Marivate, at the University of Pretoria.\\n\\n**Disclaimer:** We have worked to keep the data as accurate as possible. We collate the COVID 19 reporting data from NICD and DoH. We only update that data once there is an official report or statement. For the other data, we work to keep the data as accurate as possible. If you find errors. Make a pull request.\\n\\n*If you use this repo for any research/development/innovation, please contact us (see contacts below)*\\n\\nSee our blog posts:\\n* [Why we built this and how we are working](https://dsfsi.github.io/blog/covid19za-dashboard/),\\n* [How this is a call to action across the African continent](https://dsfsi.github.io/blog/covida19africa-call-to-action/)\\n* [A few weeks in, Data Science thoughts on COVID-19 in South Africa](https://dsfsi.github.io/blog/a-few-weeks-in-covid19/)\\n\\n*If you are interested in the **Africa-wide effort**:* Go to [https://github.com/dsfsi/covid19africa](https://github.com/dsfsi/covid19africa)\\n\\nFor information on daily updates on the repo, go to [https://twitter.com/vukosi/status/1239184086633242630?s=20](https://twitter.com/vukosi/status/1239184086633242630?s=20)\\n\\n## Licenses\\n\\nCode [![License: MIT](https://img.shields.io/badge/License-MIT-yellow.svg)](https://opensource.org/licenses/MIT)  | Data [![License: CC BY-SA 4.0](https://img.shields.io/badge/License-CC%20BY--SA%204.0-lightgrey.svg)](https://creativecommons.org/licenses/by-sa/4.0/)\\n\\n## Data Available [[/data](/data)]\\n\\nPlease note that these reports are the daily reports as released by the National Department of Health or the NICD. The new cases reported are based on new positive test reports released. However, there may be significant lag from when the patient was tested. As an example in epidemiological Week 1 of 2021 (3-9 Jan) approximately 33k new cases were reported on the daily announcement. However, the NICD Testing Summary Report for Week 3 of 2021 (which also reports the two previous weeks) shows that the number of positive tests was 43635 for Week 1 of 2021. The difference is due to the lag in testing being done -- some of the 33k cases reported on the daily announcments were actually from prior weeks while a large number of people were tested between 3-9 January, but the cases were only reported from the 10th onwards. Care needs to be taken in doing some analyses to take this into account. \\n\\n### Active\\n| dataset         | url | raw_url[file] |\\n|-----------------|-----|---------------|\\n| provincial_cumulative_timeline_confirmed|  [provincial_cumulative_timeline_confirmed](/data/covid19za_provincial_cumulative_timeline_confirmed.csv)   |       [provincial_cumulative_timeline_confirmed.csv](https://raw.githubusercontent.com/dsfsi/covid19za/master/data/covid19za_provincial_cumulative_timeline_confirmed.csv)         |\\n| provincial_cumulative_timeline_recoveries|  [provincial_cumulative_timeline_recoveries](/data/covid19za_provincial_cumulative_timeline_recoveries.csv)   |       [provincial_cumulative_timeline_recoveries.csv](https://raw.githubusercontent.com/dsfsi/covid19za/master/data/covid19za_provincial_cumulative_timeline_recoveries.csv)         |\\n| provincial_cumulative_timeline_testing|  [provincial_cumulative_timeline_testing](/data/covid19za_provincial_cumulative_timeline_testing.csv)   |       [provincial_cumulative_timeline_testing.csv](https://raw.githubusercontent.com/dsfsi/covid19za/master/data/covid19za_provincial_cumulative_timeline_testing.csv)         |\\n| provincial_cumulative_timeline_deaths|  [provincial_cumulative_timeline_deaths](/data/covid19za_provincial_cumulative_timeline_deaths.csv)   |       [provincial_cumulative_timeline_deaths.csv](https://raw.githubusercontent.com/dsfsi/covid19za/master/data/covid19za_provincial_cumulative_timeline_deaths.csv)         |\\n| vaccination |  [covid19za_timeline_vaccination](/data/covid19za_timeline_vaccination.csv)   |       [covid19za_timeline_vaccination.csv](https://raw.githubusercontent.com/dsfsi/covid19za/master/data/covid19za_timeline_vaccination.csv)         |\\n| death_statistics |  [covid19za_timeline_death_statistics](/data/covid19za_timeline_death_statistics.csv)   |       [covid19za_timeline_death_statistics.csv](https://raw.githubusercontent.com/dsfsi/covid19za/master/data/covid19za_timeline_deaths.csv)         |\\n| transmission_type |  [covid19za_timeline_transmission_type](/data/covid19za_timeline_transmission_type.csv)   |       [covid19za_timeline_transmission_type.csv](https://raw.githubusercontent.com/dsfsi/covid19za/master/data/covid19za_timeline_transmission_type.csv)         |\\n| testing |  [covid19za_timeline_testing](/data/covid19za_timeline_testing.csv)   |       [covid19za_timeline_testing.csv](https://raw.githubusercontent.com/dsfsi/covid19za/master/data/covid19za_timeline_testing.csv)         |\\n| district_data |  [district_data](/data/district_data/)   |            |\\n|   DoH PDFs and Extracted CSVs |  [doh_pdf](/data/doh_pdf)   |              |\\n|   DoH Whatsapp case update archive |  [doh_whatsapp](/data/doh_whatsapp)   |              |\\n|   health facility data [public and private] |  [health_system_za_hospitals_v1](/data/health_system_za_hospitals_v1.csv)   |         [health_system_za_hospitals_v1.csv](https://raw.githubusercontent.com/dsfsi/covid19za/master/data/health_system_za_hospitals_v1.csv)       |\\n|   nicd_daily_national_report |  [nicd_daily_national_report](/data/nicd_daily_national_report.csv)   |         [nicd_daily_national_report.csv](https://raw.githubusercontent.com/dsfsi/covid19za/master/data/nicd_daily_national_report.csv)       |\\n|   nicd_hospital_surveillance_data |  [nicd_hospital_surveillance_data](/data/nicd_hospital_surveillance_data.csv)   |         [nicd_hospital_surveillance_data.csv](https://raw.githubusercontent.com/dsfsi/covid19za/master/data/nicd_hospital_surveillance_data.csv)       |\\n|   samrc_excess_deaths_province |  [samrc_excess_deaths_province](/data/samrc_excess_deaths_province.csv)   |         [samrc_excess_deaths_province.csv](https://raw.githubusercontent.com/dsfsi/covid19za/master/data/samrc_excess_deaths_province.csv)       |\\n|   Apple, Google, Facebook Mobility Data |  [mobility](/data/mobility)   |              |\\n### Deprecated\\n**NOTE:** Since around 24 March 2020, we have not gotten individual case data from DoH or NICD. For now if you need provincial counts use the *provincial_cumulative_timeline*. For individual cases up to 25 March 2020, use the *confirmed_cases*.\\n| dataset         | url | raw_url[file] |\\n|-----------------|-----|---------------|\\n| confirmed_cases* [updated to 25 March 2020] |  [covid19za_timeline_confirmed](/data/covid19za_timeline_confirmed.csv)   |       [covid19za_timeline_confirmed.csv](https://raw.githubusercontent.com/dsfsi/covid19za/master/data/covid19za_timeline_confirmed.csv)         |\\n| deaths |  [covid19za_timeline_deaths](/data/covid19za_timeline_deaths.csv)   |       [covid19za_timeline_deaths.csv](https://raw.githubusercontent.com/dsfsi/covid19za/master/data/covid19za_timeline_deaths.csv)         |\\n\\n\\\\* NICD no longer gives individual case data. Please use **provincial_cumulative_timeline** from 26 March 2020 onwards.\\n\\n## Dashboard\\n* Google Data Studio Dashboard [URL link](https://dsfsi.github.io/covid19za-dash/)\\n\\n## Data Sources:\\n* NICD - South Africa [URL](https://www.nicd.ac.za/media/alerts/)\\n* Department of Health - South Africa [Main Site](http://www.health.gov.za/), [Twitter](https://twitter.com/HealthZA/)\\n* South African Government Media Statements [URL](https://www.gov.za/media-statements)\\n* National Department of Health Data Dictionary [URL](https://dd.dhmis.org/)\\n* MedPages [URL](https://www.medpages.info/sf/index.php?page=homepage)\\n* Statistics South Africa [URL](http://www.statssa.gov.za/)\\n\\n## Contributing\\n### Options\\n* *I want to help, but don't have an idea:* You can take a look at the issues to see which one you might be interested in tackling.\\n* *I have an idea or new feature:* Create a new issue first, assign it to yourself and then fork the repo.\\n\\n### Adopting a file\\nOnce you have chosen how you are going to contribute, you must list which files you will be working on by adding your name to the adopt-a-file csv file. Edit [covid19za_volunteer_adopted_file](https://github.com/dsfsi/covid19za/blob/master/covid19za_volunteer_adopted_files.csv).\\n\\n### Submitting Changes [Pull Request]\\n* See https://opensource.com/article/19/7/create-pull-request-github\\n### Resources [Get some ideas]\\n* [Data Science Africa COVID-19 Response](https://www.youtube.com/watch?v=9o0sa7gypMc)\\n* [IndabaX South Africa: Vukosi Marivate - Using data science to inform the COVID-19 outbreak in Africa](https://www.youtube.com/watch?v=DZOpypSA85I)\\n* [Stanford \\\\<\\\\> CS472 Data science and AI for COVID-19](https://sites.google.com/view/data-science-covid-19)\\n## Contributors\\n[![Contributors](https://contributors-img.web.app/image?repo=dsfsi/covid19za)](https://github.com/dsfsi/covid19za/graphs/contributors)\\nMade with [contributors-img](https://contributors-img.web.app).\\n* See https://github.com/dsfsi/covid19za/graphs/contributors\\n\\n## Contact\\n* Vukosi Marivate - vukosi.marivate@cs.up.ac.za, [@vukosi](https://twitter.com/vukosi)\\n\\n## Citing the dataset\\n**On a visualisation/notebook/webapp:**\\n\\n> Data Science for Social Impact Research Group @ University of Pretoria, *Coronavirus COVID-19 (2019-nCoV) Data Repository for South Africa.* Available on: https://github.com/dsfsi/covid19za.\\n\\n**In a publication**\\n\\nData Science Journal\\n\\n>@article{marivate2020use,\\n\\tAuthor = {Vukosi Marivate and Herkulaas MvE Combrink},\\n\\tJournal = {Data Science Journal},\\n\\tNumber = {1},\\n\\tPages = {1-7},\\n\\tTitle = {Use of Available Data To Inform The COVID-19 Outbreak in South Africa: A Case Study.},\\n\\tVolume = {19},\\n\\tYear = {2020},\\n    url = {[https://doi.org/10.5334/dsj-2020-019](https://doi.org/10.5334/dsj-2020-019)}\\n}\\n\\nand Dataset\\n\\n> @dataset{marivate_vukosi_2020_3819126,\\n  author       = {Marivate, Vukosi and\\n                  Arbi, Riaz and\\n                  Combrink, Herkulaas and\\n                  de Waal, Alta and\\n                  Dryza, Henkho and\\n                  Egersdorfer, Derrick and\\n                  Garnett, Shaun and\\n                  Gordon, Brent and\\n                  Greyling,  Lizel and\\n                  Lebogo, Ofentswe and\\n                  Mackie, Dave and\\n                  Merry, Bruce and\\n                  Mkhondwane, S'busiso and\\n                  Mokoatle, Mpho and\\n                  Moodley, Shivan and\\n                  Mtsweni, Jabu and\\n                  Mtsweni, Nompumelelo and\\n                  Myburgh, Paul and\\n                  Richter, Jannik and\\n                  Rikhotso, Vuthlari and\\n                  Rosen, Simon and\\n                  Sefara, Joseph and\\n                  van der Walt, Anelda and\\n                  van Heerden, Schalk and\\n                  Welsh, Jay and\\n                  Hazelhurst, Scott and\\n                  Petersen, Chad and\\n                  Mbuvha, Rendani and\\n                  Dhlamini, Nelisiwe and\\n                  James, Vaibhavi},\\n  title        = {{Coronavirus disease (COVID-19) case data - South\\n                   Africa}},\\n  month        = mar,\\n  year         = 2020,\\n  publisher    = {Zenodo},\\n  doi          = {10.5281/zenodo.3819126},\\n  url          = {[https://doi.org/10.5281/zenodo.3819126](https://doi.org/10.5281/zenodo.3819126)}\\n}\\n\\n## Showcase\\n\\nSome of COVID-19 Data for South Africa (data in this repo) is currently being used by other independent projects shown in the table below :\\n\\n\\n| Project Name  | Project Description |  Project Demo    |    Project owner |    Country   |\\n| ------------- | ------------- |------------|-----------------|------------------|\\n| 1. Covid-19 SA Data | Data visualizations corresponding to the current Covid-19 outbreak in South Africa |  [[Website](https://covid19data.co.za/)],[[GitHub Repo](https://github.com/SimonRosen173/Covid19SAData_JS)]| [Simon Rosen](https://github.com/SimonRosen173)| South Africa |\\n| 2. Covid-19 testing areas| A Covid-19 Testing Facilities Map |[[Website](https://www.ineff.ch/cov19testmap/)],[[GitHub Repo](https://github.com/IneffableKoD/cov19testmap)]| [Yannick Zehnder](https://github.com/IneffableKoD/) | Switzerland |\\n| 3. Covid-19 Map| A Coronavirus Map | [[Website](https://coronamap.co.za)] [[GitHub Repo](https://github.com/JayWelsh/coronamap)] | Jay Welsh | South Africa |\\n| 4. Covid-19 Telegram Bot| Corona virus statistics via Telegram | [Link](https://t.me/CoronaZABot) | CodeChap | South Africa |\\n| 5. Covid-19 Xitsonga Dashboard | Xitsonga Dashboard | [Link](http://xitsonga.org/covid19) | xitsonga.org | South Africa |\\n| 6. Hospitals' capacity to respond to Covid-19 | Data visualization mapping local hospitals (private ad public) in South Africa | [[Map Viz](https://elolelo.github.io/covid19/)] ,[[Repo](https://github.com/elolelo/covid19)] |[Nompumelelo](https://github.com/elolelo)|South Africa |\\n| 7. Covid-19 Trends | Covid-19 analytics dashboard for South Africa | [[Website]](http://www.covid19trends.co.za) [[Repo]](https://github.com/heerden/Covid19TrendsZA) | [Schalk van Heerden](https://github.com/heerden) | South Africa | \\n| 8. Covid-19 Tshivenda Dashboard | Tshivenda Dashboard | [Link](http://luvenda.com/covid/) | luvenda.com | South Africa |\\n| 9. Map of Health facilites around me  | Map showing comparable details of hospitals around my location in response to Covid-19  | [[Webpage](https://dsfsi.github.io/healthfacilitymap/)] , [[GitHub Repo](https://github.com/dsfsi/healthfacilitymap)] | [These authors](https://dsfsi.github.io/blog/mapping-healthsystem/)  | South Africa |\\n|10. R-based Interactive health facilties Map | Afrimapr, mapping health facilities using R-building blocks |[[Webpage](https://andysouth.shinyapps.io/hosp-viewer-SA-v02/)] [[Repo](https://github.com/afrimapr/afrimapr_dev/tree/master/hospitals-viewer-south-africa/hosp-viewer-SA-v02)] | [Dr Andy South](http://andysouth.co.uk/)  |  United Kingdom |\\n|11. Estimating the Reproductive Number of COVID-19 | Estimating effective reproductive number for SA, it's provinces and other countries. |  [[Website](https://unsupervised.online/static/covid-19/estimating_r_za.html)] | [Louis Rossouw](https://github.com/lrossouw) | South Africa |\\n|12. Modelling COVID-19 in South Africa at a Provincial Level | Modelling COVID-19 in South Africa at a Provincial Level using reported and excess deaths. |  [[Website](https://unsupervised.online/static/covid-19/modelling_covid-19_in_south_africa_at_a_provincial_level.html)] | [Louis Rossouw](https://github.com/lrossouw) | South Africa |\\n|13. South African Provincial COVID-19 Visualization | Visualize deaths, cases and recoveries alongside mobility data on a provincial level. Additionally, visualize cahnge of cases over a weekly basis. |  [[Website](http://3.140.191.119:8050/)] | [Christopher Marais](https://github.com/ChristopherMarais/Panthera_interview_gcm) | South Africa |\\n\\n\\n## Support \\n\\nWe want to acknowledge support from these organisations\\n\\n* [International Astronomical Union - Astronomy for Development](http://www.astro4dev.org/)\\n* [Google Cloud Platform](http://cloud.google.com/)\\n\"}"
      ]
     },
     "execution_count": 3,
     "metadata": {},
     "output_type": "execute_result"
    }
   ],
   "source": [
    "#take a look\n",
    "test"
   ]
  },
  {
   "cell_type": "code",
   "execution_count": 4,
   "metadata": {
    "scrolled": true
   },
   "outputs": [],
   "source": [
    "scrape_data = a.scrape_github_data()"
   ]
  },
  {
   "cell_type": "code",
   "execution_count": 7,
   "metadata": {},
   "outputs": [
    {
     "name": "stdout",
     "output_type": "stream",
     "text": [
      "<class 'pandas.core.frame.DataFrame'>\n",
      "RangeIndex: 100 entries, 0 to 99\n",
      "Data columns (total 3 columns):\n",
      " #   Column           Non-Null Count  Dtype \n",
      "---  ------           --------------  ----- \n",
      " 0   repo             100 non-null    object\n",
      " 1   language         89 non-null     object\n",
      " 2   readme_contents  100 non-null    object\n",
      "dtypes: object(3)\n",
      "memory usage: 2.5+ KB\n"
     ]
    }
   ],
   "source": [
    "df = pd.DataFrame(scrape_data)\n",
    "df.info()"
   ]
  },
  {
   "cell_type": "markdown",
   "metadata": {},
   "source": [
    "# Prepare"
   ]
  },
  {
   "cell_type": "code",
   "execution_count": 11,
   "metadata": {
    "scrolled": true
   },
   "outputs": [
    {
     "data": {
      "text/html": [
       "<div>\n",
       "<style scoped>\n",
       "    .dataframe tbody tr th:only-of-type {\n",
       "        vertical-align: middle;\n",
       "    }\n",
       "\n",
       "    .dataframe tbody tr th {\n",
       "        vertical-align: top;\n",
       "    }\n",
       "\n",
       "    .dataframe thead th {\n",
       "        text-align: right;\n",
       "    }\n",
       "</style>\n",
       "<table border=\"1\" class=\"dataframe\">\n",
       "  <thead>\n",
       "    <tr style=\"text-align: right;\">\n",
       "      <th></th>\n",
       "      <th>repo</th>\n",
       "      <th>language</th>\n",
       "      <th>original</th>\n",
       "      <th>clean</th>\n",
       "      <th>lemmatized</th>\n",
       "      <th>stopwords_removed</th>\n",
       "    </tr>\n",
       "  </thead>\n",
       "  <tbody>\n",
       "    <tr>\n",
       "      <th>0</th>\n",
       "      <td>nytimes/covid-19-data</td>\n",
       "      <td>None</td>\n",
       "      <td># Coronavirus (Covid-19) Data in the United St...</td>\n",
       "      <td>coronavirus covid19 data in the united states...</td>\n",
       "      <td>coronavirus covid19 data in the united state t...</td>\n",
       "      <td>coronavirus covid19 data united state primary ...</td>\n",
       "    </tr>\n",
       "    <tr>\n",
       "      <th>1</th>\n",
       "      <td>covid19india/covid19india-react</td>\n",
       "      <td>JavaScript</td>\n",
       "      <td>&lt;p align=\"center\"&gt;\\n&lt;img src=\"https://reposito...</td>\n",
       "      <td>p aligncenter\\nimg srchttpsrepositoryimagesgit...</td>\n",
       "      <td>p aligncenter img srchttpsrepositoryimagesgith...</td>\n",
       "      <td>p aligncenter img srchttpsrepositoryimagesgith...</td>\n",
       "    </tr>\n",
       "    <tr>\n",
       "      <th>2</th>\n",
       "      <td>owid/covid-19-data</td>\n",
       "      <td>Python</td>\n",
       "      <td># COVID-19 Dataset by _Our World in Data_ \\n[!...</td>\n",
       "      <td>covid19 dataset by our world in data \\nwebsit...</td>\n",
       "      <td>covid19 dataset by our world in data website s...</td>\n",
       "      <td>covid19 dataset world data website shieldsioht...</td>\n",
       "    </tr>\n",
       "    <tr>\n",
       "      <th>3</th>\n",
       "      <td>SeanNaren/CORD-19-ANN</td>\n",
       "      <td>Python</td>\n",
       "      <td># CORD-19-ANN\\n\\n![cord_website](imgs/cord_ann...</td>\n",
       "      <td>cord19ann\\n\\ncordwebsiteimgscordannexamplegif...</td>\n",
       "      <td>cord19ann cordwebsiteimgscordannexamplegif ope...</td>\n",
       "      <td>cord19ann cordwebsiteimgscordannexamplegif ope...</td>\n",
       "    </tr>\n",
       "    <tr>\n",
       "      <th>4</th>\n",
       "      <td>geohot/corona</td>\n",
       "      <td>Python</td>\n",
       "      <td># Reverse engineering the coronavirus (SARS-Co...</td>\n",
       "      <td>reverse engineering the coronavirus sarscov2\\...</td>\n",
       "      <td>reverse engineering the coronavirus sarscov2 s...</td>\n",
       "      <td>reverse engineering coronavirus sarscov2 start...</td>\n",
       "    </tr>\n",
       "  </tbody>\n",
       "</table>\n",
       "</div>"
      ],
      "text/plain": [
       "                              repo    language  \\\n",
       "0            nytimes/covid-19-data        None   \n",
       "1  covid19india/covid19india-react  JavaScript   \n",
       "2               owid/covid-19-data      Python   \n",
       "3            SeanNaren/CORD-19-ANN      Python   \n",
       "4                    geohot/corona      Python   \n",
       "\n",
       "                                            original  \\\n",
       "0  # Coronavirus (Covid-19) Data in the United St...   \n",
       "1  <p align=\"center\">\\n<img src=\"https://reposito...   \n",
       "2  # COVID-19 Dataset by _Our World in Data_ \\n[!...   \n",
       "3  # CORD-19-ANN\\n\\n![cord_website](imgs/cord_ann...   \n",
       "4  # Reverse engineering the coronavirus (SARS-Co...   \n",
       "\n",
       "                                               clean  \\\n",
       "0   coronavirus covid19 data in the united states...   \n",
       "1  p aligncenter\\nimg srchttpsrepositoryimagesgit...   \n",
       "2   covid19 dataset by our world in data \\nwebsit...   \n",
       "3   cord19ann\\n\\ncordwebsiteimgscordannexamplegif...   \n",
       "4   reverse engineering the coronavirus sarscov2\\...   \n",
       "\n",
       "                                          lemmatized  \\\n",
       "0  coronavirus covid19 data in the united state t...   \n",
       "1  p aligncenter img srchttpsrepositoryimagesgith...   \n",
       "2  covid19 dataset by our world in data website s...   \n",
       "3  cord19ann cordwebsiteimgscordannexamplegif ope...   \n",
       "4  reverse engineering the coronavirus sarscov2 s...   \n",
       "\n",
       "                                   stopwords_removed  \n",
       "0  coronavirus covid19 data united state primary ...  \n",
       "1  p aligncenter img srchttpsrepositoryimagesgith...  \n",
       "2  covid19 dataset world data website shieldsioht...  \n",
       "3  cord19ann cordwebsiteimgscordannexamplegif ope...  \n",
       "4  reverse engineering coronavirus sarscov2 start...  "
      ]
     },
     "execution_count": 11,
     "metadata": {},
     "output_type": "execute_result"
    }
   ],
   "source": [
    "df = df.rename({'readme_contents':'original'},axis=1)\n",
    "df['clean'] = df.original.apply(prepare.basic_clean)\n",
    "df['lemmatized'] = df.clean.apply(prepare.lemmatize)\n",
    "df['stopwords_removed'] = df.lemmatized.apply(prepare.remove_stopwords)\n",
    "df.head()"
   ]
  },
  {
   "cell_type": "code",
   "execution_count": null,
   "metadata": {},
   "outputs": [],
   "source": []
  },
  {
   "cell_type": "markdown",
   "metadata": {},
   "source": [
    "# Explore"
   ]
  },
  {
   "cell_type": "code",
   "execution_count": null,
   "metadata": {},
   "outputs": [],
   "source": []
  }
 ],
 "metadata": {
  "kernelspec": {
   "display_name": "Python 3",
   "language": "python",
   "name": "python3"
  },
  "language_info": {
   "codemirror_mode": {
    "name": "ipython",
    "version": 3
   },
   "file_extension": ".py",
   "mimetype": "text/x-python",
   "name": "python",
   "nbconvert_exporter": "python",
   "pygments_lexer": "ipython3",
   "version": "3.8.5"
  }
 },
 "nbformat": 4,
 "nbformat_minor": 4
}
