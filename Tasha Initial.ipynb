{
 "cells": [
  {
   "cell_type": "code",
   "execution_count": 1,
   "metadata": {},
   "outputs": [],
   "source": [
    "import acquire as a"
   ]
  },
  {
   "cell_type": "code",
   "execution_count": null,
   "metadata": {},
   "outputs": [],
   "source": [
    "list = [\n",
    "'google/exposure-notifications-android', \n",
    "'MohGovIL/hamagen-react-native', \n",
    "'phildini/stayinghomeclub', \n",
    "'rbignon/doctoshotgun',\n",
    "'OxCGRT/covid-policy-tracker',\n",
    "'covidpass-org/covidpass',\n",
    "'AaronWard/covidify',\n",
    "'MoH-Malaysia/covid19-public',\n",
    "'GuangchuangYu/nCov2019',\n",
    "'wcota/covid19br',\n",
    "'covidatlas/coronadatascraper',\n",
    "'reichlab/covid19-forecast-hub',\n",
    "'swsoyee/2019-ncov-japan',\n",
    "'CITF-Malaysia/citf-public',\n",
    "'Ank-Cha/Social-Distancing-Analyser-COVID-19',\n",
    "'VinAIResearch/BERTweet',\n",
    "'amodm/api-covid19-in',\n",
    "'JohnCoene/coronavirus',\n",
    "'GoogleCloudPlatform/covid-19-open-data',\n",
    "'deepset-ai/COVID-QA',\n",
    "'bhattbhavesh91/cowin-vaccination-slot-availability',\n",
    "'ccodwg/Covid19Canada',\n",
    "'HzFu/COVID19_imaging_AI_paper_list',\n",
    "'aatishb/covidtrends',\n",
    "'github/covid-19-repo-data',\n",
    "'anshumanpattnaik/covid19-full-stack-application',\n",
    "'open-covid-19/data',\n",
    "'paulvangentcom/python_corona_simulation',\n",
    "'fluttercandies/ncov_2019',\n",
    "'trekhleb/covid-19',\n",
    "'COVID-19-electronic-health-system/Corona-tracker',\n",
    "'wobsoriano/covid3d',\n",
    "'dsfsi/covid19za'\n",
    "]\n",
    "   "
   ]
  },
  {
   "cell_type": "code",
   "execution_count": null,
   "metadata": {},
   "outputs": [],
   "source": []
  }
 ],
 "metadata": {
  "kernelspec": {
   "display_name": "Python 3",
   "language": "python",
   "name": "python3"
  },
  "language_info": {
   "codemirror_mode": {
    "name": "ipython",
    "version": 3
   },
   "file_extension": ".py",
   "mimetype": "text/x-python",
   "name": "python",
   "nbconvert_exporter": "python",
   "pygments_lexer": "ipython3",
   "version": "3.8.5"
  }
 },
 "nbformat": 4,
 "nbformat_minor": 4
}
