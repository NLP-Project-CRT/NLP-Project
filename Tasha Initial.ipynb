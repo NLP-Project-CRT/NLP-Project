{
 "cells": [
  {
   "cell_type": "code",
   "execution_count": 1,
   "metadata": {},
   "outputs": [
    {
     "ename": "ModuleNotFoundError",
     "evalue": "No module named 'env'",
     "output_type": "error",
     "traceback": [
      "\u001b[0;31m---------------------------------------------------------------------------\u001b[0m",
      "\u001b[0;31mModuleNotFoundError\u001b[0m                       Traceback (most recent call last)",
      "\u001b[0;32m<ipython-input-1-ac5b7bdf15a0>\u001b[0m in \u001b[0;36m<module>\u001b[0;34m\u001b[0m\n\u001b[0;32m----> 1\u001b[0;31m \u001b[0;32mimport\u001b[0m \u001b[0macquire\u001b[0m \u001b[0;32mas\u001b[0m \u001b[0ma\u001b[0m\u001b[0;34m\u001b[0m\u001b[0;34m\u001b[0m\u001b[0m\n\u001b[0m",
      "\u001b[0;32m~/codeup-data-science/database-exercises/NLP-Project/acquire.py\u001b[0m in \u001b[0;36m<module>\u001b[0;34m\u001b[0m\n\u001b[1;32m     13\u001b[0m \u001b[0;32mimport\u001b[0m \u001b[0mrequests\u001b[0m\u001b[0;34m\u001b[0m\u001b[0;34m\u001b[0m\u001b[0m\n\u001b[1;32m     14\u001b[0m \u001b[0;34m\u001b[0m\u001b[0m\n\u001b[0;32m---> 15\u001b[0;31m \u001b[0;32mfrom\u001b[0m \u001b[0menv\u001b[0m \u001b[0;32mimport\u001b[0m \u001b[0mgithub_token\u001b[0m\u001b[0;34m,\u001b[0m \u001b[0mgithub_username\u001b[0m\u001b[0;34m\u001b[0m\u001b[0;34m\u001b[0m\u001b[0m\n\u001b[0m\u001b[1;32m     16\u001b[0m \u001b[0;34m\u001b[0m\u001b[0m\n\u001b[1;32m     17\u001b[0m \u001b[0;31m# TODO: Make a github personal access token.\u001b[0m\u001b[0;34m\u001b[0m\u001b[0;34m\u001b[0m\u001b[0;34m\u001b[0m\u001b[0m\n",
      "\u001b[0;31mModuleNotFoundError\u001b[0m: No module named 'env'"
     ]
    }
   ],
   "source": [
    "import acquire as a"
   ]
  },
  {
   "cell_type": "code",
   "execution_count": null,
   "metadata": {},
   "outputs": [],
   "source": [
    "list = [\n",
    "'google/exposure-notifications-android', \n",
    "'MohGovIL/hamagen-react-native', \n",
    "'phildini/stayinghomeclub', \n",
    "'rbignon/doctoshotgun',\n",
    "'OxCGRT/covid-policy-tracker',\n",
    "'covidpass-org/covidpass',\n",
    "'AaronWard/covidify',\n",
    "'MoH-Malaysia/covid19-public',\n",
    "'GuangchuangYu/nCov2019',\n",
    "'wcota/covid19br',\n",
    "'covidatlas/coronadatascraper',\n",
    "'reichlab/covid19-forecast-hub',\n",
    "'swsoyee/2019-ncov-japan',\n",
    "'CITF-Malaysia/citf-public',\n",
    "'Ank-Cha/Social-Distancing-Analyser-COVID-19',\n",
    "'VinAIResearch/BERTweet',\n",
    "'amodm/api-covid19-in',\n",
    "'JohnCoene/coronavirus',\n",
    "'GoogleCloudPlatform/covid-19-open-data',\n",
    "'deepset-ai/COVID-QA',\n",
    "'bhattbhavesh91/cowin-vaccination-slot-availability',\n",
    "'ccodwg/Covid19Canada',\n",
    "'HzFu/COVID19_imaging_AI_paper_list',\n",
    "'aatishb/covidtrends',\n",
    "'github/covid-19-repo-data',\n",
    "'anshumanpattnaik/covid19-full-stack-application',\n",
    "'open-covid-19/data',\n",
    "'paulvangentcom/python_corona_simulation',\n",
    "'fluttercandies/ncov_2019',\n",
    "'trekhleb/covid-19',\n",
    "\n",
    "\n",
    "    "
   ]
  }
 ],
 "metadata": {
  "kernelspec": {
   "display_name": "Python 3",
   "language": "python",
   "name": "python3"
  },
  "language_info": {
   "codemirror_mode": {
    "name": "ipython",
    "version": 3
   },
   "file_extension": ".py",
   "mimetype": "text/x-python",
   "name": "python",
   "nbconvert_exporter": "python",
   "pygments_lexer": "ipython3",
   "version": "3.8.5"
  }
 },
 "nbformat": 4,
 "nbformat_minor": 4
}
