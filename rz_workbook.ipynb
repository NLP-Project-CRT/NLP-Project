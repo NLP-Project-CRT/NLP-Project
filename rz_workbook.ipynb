{
 "cells": [
  {
   "cell_type": "code",
   "execution_count": 1,
   "metadata": {},
   "outputs": [
    {
     "name": "stderr",
     "output_type": "stream",
     "text": [
      "[nltk_data] Downloading package stopwords to /Users/stray/nltk_data...\n",
      "[nltk_data]   Package stopwords is already up-to-date!\n",
      "[nltk_data] Downloading package wordnet to /Users/stray/nltk_data...\n",
      "[nltk_data]   Package wordnet is already up-to-date!\n"
     ]
    }
   ],
   "source": [
    "import pandas as pd\n",
    "\n",
    "from wrangle import wrangle_github_repos\n",
    "\n",
    "from matplotlib.style import use\n",
    "use('~/.matplotlib/gruvbox.mplstyle')"
   ]
  },
  {
   "cell_type": "code",
   "execution_count": 2,
   "metadata": {},
   "outputs": [],
   "source": [
    "df = wrangle_github_repos(new_pickles=True)"
   ]
  },
  {
   "cell_type": "code",
   "execution_count": 3,
   "metadata": {},
   "outputs": [
    {
     "data": {
      "text/html": [
       "<div>\n",
       "<style scoped>\n",
       "    .dataframe tbody tr th:only-of-type {\n",
       "        vertical-align: middle;\n",
       "    }\n",
       "\n",
       "    .dataframe tbody tr th {\n",
       "        vertical-align: top;\n",
       "    }\n",
       "\n",
       "    .dataframe thead th {\n",
       "        text-align: right;\n",
       "    }\n",
       "</style>\n",
       "<table border=\"1\" class=\"dataframe\">\n",
       "  <thead>\n",
       "    <tr style=\"text-align: right;\">\n",
       "      <th></th>\n",
       "      <th>repository</th>\n",
       "      <th>original_readme</th>\n",
       "      <th>cleaned_readme</th>\n",
       "      <th>lemmatized_readme</th>\n",
       "      <th>original_char_length</th>\n",
       "      <th>cleaned_char_length</th>\n",
       "      <th>pct_char_removed</th>\n",
       "      <th>natural_language</th>\n",
       "      <th>programming_language</th>\n",
       "    </tr>\n",
       "  </thead>\n",
       "  <tbody>\n",
       "    <tr>\n",
       "      <th>0</th>\n",
       "      <td>ieee8023/covid-chestxray-dataset</td>\n",
       "      <td>\\n#### 🛑 Note: please do not claim diagnostic ...</td>\n",
       "      <td>note please claim diagnostic performance model...</td>\n",
       "      <td>note please claim diagnostic performance model...</td>\n",
       "      <td>10610</td>\n",
       "      <td>4170</td>\n",
       "      <td>39</td>\n",
       "      <td>en</td>\n",
       "      <td>Jupyter Notebook</td>\n",
       "    </tr>\n",
       "    <tr>\n",
       "      <th>1</th>\n",
       "      <td>geohot/corona</td>\n",
       "      <td># Reverse engineering the coronavirus (SARS-Co...</td>\n",
       "      <td>reverse engineering coronavirus sars cov 2 sta...</td>\n",
       "      <td>reverse engineering coronavirus sars cov 2 sta...</td>\n",
       "      <td>13101</td>\n",
       "      <td>3883</td>\n",
       "      <td>29</td>\n",
       "      <td>en</td>\n",
       "      <td>Python</td>\n",
       "    </tr>\n",
       "    <tr>\n",
       "      <th>2</th>\n",
       "      <td>ahmadawais/corona-cli</td>\n",
       "      <td>&lt;h4 align=\"center\"&gt;\\n    &lt;a href=\"https://gith...</td>\n",
       "      <td>track coronavirus disease covid 19 novel coron...</td>\n",
       "      <td>track coronavirus disease covid 19 novel coron...</td>\n",
       "      <td>15371</td>\n",
       "      <td>4855</td>\n",
       "      <td>31</td>\n",
       "      <td>en</td>\n",
       "      <td>JavaScript</td>\n",
       "    </tr>\n",
       "  </tbody>\n",
       "</table>\n",
       "</div>"
      ],
      "text/plain": [
       "                         repository  \\\n",
       "0  ieee8023/covid-chestxray-dataset   \n",
       "1                     geohot/corona   \n",
       "2             ahmadawais/corona-cli   \n",
       "\n",
       "                                     original_readme  \\\n",
       "0  \\n#### 🛑 Note: please do not claim diagnostic ...   \n",
       "1  # Reverse engineering the coronavirus (SARS-Co...   \n",
       "2  <h4 align=\"center\">\\n    <a href=\"https://gith...   \n",
       "\n",
       "                                      cleaned_readme  \\\n",
       "0  note please claim diagnostic performance model...   \n",
       "1  reverse engineering coronavirus sars cov 2 sta...   \n",
       "2  track coronavirus disease covid 19 novel coron...   \n",
       "\n",
       "                                   lemmatized_readme  original_char_length  \\\n",
       "0  note please claim diagnostic performance model...                 10610   \n",
       "1  reverse engineering coronavirus sars cov 2 sta...                 13101   \n",
       "2  track coronavirus disease covid 19 novel coron...                 15371   \n",
       "\n",
       "   cleaned_char_length  pct_char_removed natural_language programming_language  \n",
       "0                 4170                39               en     Jupyter Notebook  \n",
       "1                 3883                29               en               Python  \n",
       "2                 4855                31               en           JavaScript  "
      ]
     },
     "execution_count": 3,
     "metadata": {},
     "output_type": "execute_result"
    }
   ],
   "source": [
    "df.head(3)"
   ]
  },
  {
   "cell_type": "code",
   "execution_count": null,
   "metadata": {},
   "outputs": [],
   "source": []
  }
 ],
 "metadata": {
  "kernelspec": {
   "display_name": "Python 3",
   "language": "python",
   "name": "python3"
  },
  "language_info": {
   "codemirror_mode": {
    "name": "ipython",
    "version": 3
   },
   "file_extension": ".py",
   "mimetype": "text/x-python",
   "name": "python",
   "nbconvert_exporter": "python",
   "pygments_lexer": "ipython3",
   "version": "3.8.10"
  },
  "widgets": {
   "application/vnd.jupyter.widget-state+json": {
    "state": {},
    "version_major": 2,
    "version_minor": 0
   }
  }
 },
 "nbformat": 4,
 "nbformat_minor": 4
}
