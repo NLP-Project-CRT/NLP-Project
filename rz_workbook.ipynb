{
 "cells": [
  {
   "cell_type": "code",
   "execution_count": 1,
   "metadata": {},
   "outputs": [
    {
     "name": "stderr",
     "output_type": "stream",
     "text": [
      "[nltk_data] Downloading package stopwords to /Users/stray/nltk_data...\n",
      "[nltk_data]   Package stopwords is already up-to-date!\n",
      "[nltk_data] Downloading package wordnet to /Users/stray/nltk_data...\n",
      "[nltk_data]   Package wordnet is already up-to-date!\n"
     ]
    }
   ],
   "source": [
    "import pandas as pd\n",
    "\n",
    "from wrangle import wrangle_github_repos\n",
    "\n",
    "from matplotlib.style import use\n",
    "use('~/.matplotlib/gruvbox.mplstyle')"
   ]
  },
  {
   "cell_type": "code",
   "execution_count": 2,
   "metadata": {},
   "outputs": [
    {
     "ename": "NameError",
     "evalue": "name 'open_jar' is not defined",
     "output_type": "error",
     "traceback": [
      "\u001b[0;31m---------------------------------------------------------------------------\u001b[0m",
      "\u001b[0;31mNameError\u001b[0m                                 Traceback (most recent call last)",
      "\u001b[0;32m<ipython-input-2-48dac0e3b53d>\u001b[0m in \u001b[0;36m<module>\u001b[0;34m\u001b[0m\n\u001b[0;32m----> 1\u001b[0;31m \u001b[0mdf\u001b[0m \u001b[0;34m=\u001b[0m \u001b[0mwrangle_github_repos\u001b[0m\u001b[0;34m(\u001b[0m\u001b[0;34m)\u001b[0m\u001b[0;34m\u001b[0m\u001b[0;34m\u001b[0m\u001b[0m\n\u001b[0m",
      "\u001b[0;32m~/codeup-data-science/NLP-Project/wrangle.py\u001b[0m in \u001b[0;36mwrangle_github_repos\u001b[0;34m(new_pickls, get_new_links, number_of_pages)\u001b[0m\n\u001b[1;32m    161\u001b[0m     if (isfile('repos.pickle') == False or\n\u001b[1;32m    162\u001b[0m                   \u001b[0mget_new_links\u001b[0m \u001b[0;34m==\u001b[0m \u001b[0;32mTrue\u001b[0m \u001b[0;32mor\u001b[0m\u001b[0;34m\u001b[0m\u001b[0;34m\u001b[0m\u001b[0m\n\u001b[0;32m--> 163\u001b[0;31m                          open_jar == True):\n\u001b[0m\u001b[1;32m    164\u001b[0m         \u001b[0;31m# load data into DataFrame\u001b[0m\u001b[0;34m\u001b[0m\u001b[0;34m\u001b[0m\u001b[0;34m\u001b[0m\u001b[0m\n\u001b[1;32m    165\u001b[0m         \u001b[0mdf\u001b[0m \u001b[0;34m=\u001b[0m \u001b[0mopen_json_data\u001b[0m\u001b[0;34m(\u001b[0m\u001b[0;34m)\u001b[0m\u001b[0;34m\u001b[0m\u001b[0;34m\u001b[0m\u001b[0m\n",
      "\u001b[0;31mNameError\u001b[0m: name 'open_jar' is not defined"
     ]
    }
   ],
   "source": [
    "df = wrangle_github_repos()"
   ]
  },
  {
   "cell_type": "code",
   "execution_count": 3,
   "metadata": {},
   "outputs": [
    {
     "data": {
      "text/html": [
       "<div>\n",
       "<style scoped>\n",
       "    .dataframe tbody tr th:only-of-type {\n",
       "        vertical-align: middle;\n",
       "    }\n",
       "\n",
       "    .dataframe tbody tr th {\n",
       "        vertical-align: top;\n",
       "    }\n",
       "\n",
       "    .dataframe thead th {\n",
       "        text-align: right;\n",
       "    }\n",
       "</style>\n",
       "<table border=\"1\" class=\"dataframe\">\n",
       "  <thead>\n",
       "    <tr style=\"text-align: right;\">\n",
       "      <th></th>\n",
       "      <th>repo</th>\n",
       "      <th>readme_contents</th>\n",
       "      <th>cleaned</th>\n",
       "      <th>lemmatized</th>\n",
       "      <th>original_char_length</th>\n",
       "      <th>cleaned_char_length</th>\n",
       "      <th>pct_char_removed</th>\n",
       "      <th>natural_language</th>\n",
       "      <th>language</th>\n",
       "    </tr>\n",
       "  </thead>\n",
       "  <tbody>\n",
       "    <tr>\n",
       "      <th>6</th>\n",
       "      <td>ieee8023/covid-chestxray-dataset</td>\n",
       "      <td>\\n#### 🛑 Note: please do not claim diagnostic ...</td>\n",
       "      <td>note please claim diagnostic performance model...</td>\n",
       "      <td>note please claim diagnostic performance model...</td>\n",
       "      <td>10610</td>\n",
       "      <td>4170</td>\n",
       "      <td>39</td>\n",
       "      <td>en</td>\n",
       "      <td>Jupyter Notebook</td>\n",
       "    </tr>\n",
       "    <tr>\n",
       "      <th>7</th>\n",
       "      <td>geohot/corona</td>\n",
       "      <td># Reverse engineering the coronavirus (SARS-Co...</td>\n",
       "      <td>reverse engineering coronavirus sars cov 2 sta...</td>\n",
       "      <td>reverse engineering coronavirus sars cov 2 sta...</td>\n",
       "      <td>13101</td>\n",
       "      <td>3883</td>\n",
       "      <td>29</td>\n",
       "      <td>en</td>\n",
       "      <td>Python</td>\n",
       "    </tr>\n",
       "    <tr>\n",
       "      <th>8</th>\n",
       "      <td>ahmadawais/corona-cli</td>\n",
       "      <td>&lt;h4 align=\"center\"&gt;\\n    &lt;a href=\"https://gith...</td>\n",
       "      <td>track coronavirus disease covid 19 novel coron...</td>\n",
       "      <td>track coronavirus disease covid 19 novel coron...</td>\n",
       "      <td>15371</td>\n",
       "      <td>4855</td>\n",
       "      <td>31</td>\n",
       "      <td>en</td>\n",
       "      <td>JavaScript</td>\n",
       "    </tr>\n",
       "  </tbody>\n",
       "</table>\n",
       "</div>"
      ],
      "text/plain": [
       "                               repo  \\\n",
       "6  ieee8023/covid-chestxray-dataset   \n",
       "7                     geohot/corona   \n",
       "8             ahmadawais/corona-cli   \n",
       "\n",
       "                                     readme_contents  \\\n",
       "6  \\n#### 🛑 Note: please do not claim diagnostic ...   \n",
       "7  # Reverse engineering the coronavirus (SARS-Co...   \n",
       "8  <h4 align=\"center\">\\n    <a href=\"https://gith...   \n",
       "\n",
       "                                             cleaned  \\\n",
       "6  note please claim diagnostic performance model...   \n",
       "7  reverse engineering coronavirus sars cov 2 sta...   \n",
       "8  track coronavirus disease covid 19 novel coron...   \n",
       "\n",
       "                                          lemmatized  original_char_length  \\\n",
       "6  note please claim diagnostic performance model...                 10610   \n",
       "7  reverse engineering coronavirus sars cov 2 sta...                 13101   \n",
       "8  track coronavirus disease covid 19 novel coron...                 15371   \n",
       "\n",
       "   cleaned_char_length  pct_char_removed natural_language          language  \n",
       "6                 4170                39               en  Jupyter Notebook  \n",
       "7                 3883                29               en            Python  \n",
       "8                 4855                31               en        JavaScript  "
      ]
     },
     "execution_count": 3,
     "metadata": {},
     "output_type": "execute_result"
    }
   ],
   "source": [
    "df.head(3)"
   ]
  },
  {
   "cell_type": "code",
   "execution_count": null,
   "metadata": {},
   "outputs": [],
   "source": []
  }
 ],
 "metadata": {
  "kernelspec": {
   "display_name": "Python 3",
   "language": "python",
   "name": "python3"
  },
  "language_info": {
   "codemirror_mode": {
    "name": "ipython",
    "version": 3
   },
   "file_extension": ".py",
   "mimetype": "text/x-python",
   "name": "python",
   "nbconvert_exporter": "python",
   "pygments_lexer": "ipython3",
   "version": "3.8.10"
  },
  "widgets": {
   "application/vnd.jupyter.widget-state+json": {
    "state": {},
    "version_major": 2,
    "version_minor": 0
   }
  }
 },
 "nbformat": 4,
 "nbformat_minor": 4
}
